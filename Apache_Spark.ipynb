{
  "nbformat": 4,
  "nbformat_minor": 0,
  "metadata": {
    "colab": {
      "provenance": [],
      "authorship_tag": "ABX9TyM8S0fpPdfm8fiuBtpjSFEU",
      "include_colab_link": true
    },
    "kernelspec": {
      "name": "python3",
      "display_name": "Python 3"
    },
    "language_info": {
      "name": "python"
    }
  },
  "cells": [
    {
      "cell_type": "markdown",
      "metadata": {
        "id": "view-in-github",
        "colab_type": "text"
      },
      "source": [
        "<a href=\"https://colab.research.google.com/github/rushi-k12/Apache_Spark/blob/main/Apache_Spark.ipynb\" target=\"_parent\"><img src=\"https://colab.research.google.com/assets/colab-badge.svg\" alt=\"Open In Colab\"/></a>"
      ]
    },
    {
      "cell_type": "code",
      "execution_count": 3,
      "metadata": {
        "id": "UD_4uJ5BD6DI"
      },
      "outputs": [],
      "source": [
        "from pyspark.sql import SparkSession\n",
        "spark = SparkSession.builder.getOrCreate()"
      ]
    },
    {
      "cell_type": "code",
      "source": [
        "spark"
      ],
      "metadata": {
        "colab": {
          "base_uri": "https://localhost:8080/",
          "height": 222
        },
        "id": "nQLc-G6xFdIz",
        "outputId": "d40747ae-66be-4fc9-8d1d-9dadba822771"
      },
      "execution_count": 7,
      "outputs": [
        {
          "output_type": "execute_result",
          "data": {
            "text/plain": [
              "<pyspark.sql.session.SparkSession at 0x7ca6463dd750>"
            ],
            "text/html": [
              "\n",
              "            <div>\n",
              "                <p><b>SparkSession - in-memory</b></p>\n",
              "                \n",
              "        <div>\n",
              "            <p><b>SparkContext</b></p>\n",
              "\n",
              "            <p><a href=\"http://9b8961a392b4:4040\">Spark UI</a></p>\n",
              "\n",
              "            <dl>\n",
              "              <dt>Version</dt>\n",
              "                <dd><code>v3.5.1</code></dd>\n",
              "              <dt>Master</dt>\n",
              "                <dd><code>local[*]</code></dd>\n",
              "              <dt>AppName</dt>\n",
              "                <dd><code>pyspark-shell</code></dd>\n",
              "            </dl>\n",
              "        </div>\n",
              "        \n",
              "            </div>\n",
              "        "
            ]
          },
          "metadata": {},
          "execution_count": 7
        }
      ]
    },
    {
      "cell_type": "code",
      "source": [
        "filepath = '/content/WalmartSQL repository..csv'\n",
        "delimiter = ';'\n",
        "df = spark.read.csv(filepath, header=True, sep=delimiter)\n",
        "\n",
        "df.show()\n"
      ],
      "metadata": {
        "colab": {
          "base_uri": "https://localhost:8080/"
        },
        "id": "nbezOi8UFTAi",
        "outputId": "0676c31c-53db-4029-d420-7e491b7ad022"
      },
      "execution_count": 10,
      "outputs": [
        {
          "output_type": "stream",
          "name": "stdout",
          "text": [
            "+-----------+------+---------+-------------+------+--------------------+----------+--------+-------+--------+-------------------+--------+--------------+------+----------------+------------+------+-----------+---------+----------+\n",
            "| invoice_id|branch|     city|customer_type|gender|        product_line|unit_price|quantity|    vat|   total|               dtme|     tme|payment_method|  cogs|gross_margin_pct|gross_income|rating|time_of_day| day_name|month_name|\n",
            "+-----------+------+---------+-------------+------+--------------------+----------+--------+-------+--------+-------------------+--------+--------------+------+----------------+------------+------+-----------+---------+----------+\n",
            "|750-67-8428|     A|   Yangon|       Member|Female|   Health and beauty|     74.69|       7|26.1415|548.9715|2019-01-05 00:00:00|13:08:00|       Ewallet|522.83|          4.7619|     26.1415|   9.1|  afternoon| Saturday|   January|\n",
            "|226-31-3081|     C|Naypyitaw|       Normal|Female|Electronic access...|     15.28|       5|   3.82|   80.22|2019-03-08 00:00:00|10:29:00|          Cash|  76.4|          4.7619|        3.82|   9.6|    morning|   Friday|     March|\n",
            "|631-41-3108|     A|   Yangon|       Normal|  Male|  Home and lifestyle|     46.33|       7|16.2155|340.5255|2019-03-03 00:00:00|13:23:00|   Credit card|324.31|          4.7619|     16.2155|   7.4|  afternoon|   Sunday|     March|\n",
            "|123-19-1176|     A|   Yangon|       Member|  Male|   Health and beauty|     58.22|       8| 23.288| 489.048|2019-01-27 00:00:00|20:33:00|       Ewallet|465.76|          4.7619|      23.288|   8.4|    evening|   Sunday|   January|\n",
            "|373-73-7910|     A|   Yangon|       Normal|  Male|   Sports and travel|     86.31|       7|30.2085|634.3785|2019-02-08 00:00:00|10:37:00|       Ewallet|604.17|          4.7619|     30.2085|   5.3|    morning|   Friday|  February|\n",
            "|699-14-3026|     C|Naypyitaw|       Normal|  Male|Electronic access...|     85.39|       7|29.8865|627.6165|2019-03-25 00:00:00|18:30:00|       Ewallet|597.73|          4.7619|     29.8865|   4.1|    evening|   Monday|     March|\n",
            "|355-53-5943|     A|   Yangon|       Member|Female|Electronic access...|     68.84|       6| 20.652| 433.692|2019-02-25 00:00:00|14:36:00|       Ewallet|413.04|          4.7619|      20.652|   5.8|  afternoon|   Monday|  February|\n",
            "|315-22-5665|     C|Naypyitaw|       Normal|Female|  Home and lifestyle|     73.56|      10|  36.78|  772.38|2019-02-24 00:00:00|11:38:00|       Ewallet| 735.6|          4.7619|       36.78|   8.0|    morning|   Sunday|  February|\n",
            "|665-32-9167|     A|   Yangon|       Member|Female|   Health and beauty|     36.26|       2|  3.626|  76.146|2019-01-10 00:00:00|17:15:00|   Credit card| 72.52|          4.7619|       3.626|   7.2|    evening| Thursday|   January|\n",
            "|692-92-5582|     B| Mandalay|       Member|Female|  Food and beverages|     54.84|       3|  8.226| 172.746|2019-02-20 00:00:00|13:27:00|   Credit card|164.52|          4.7619|       8.226|   5.9|  afternoon|Wednesday|  February|\n",
            "|351-62-0822|     B| Mandalay|       Member|Female| Fashion accessories|     14.48|       4|  2.896|  60.816|2019-02-06 00:00:00|18:07:00|       Ewallet| 57.92|          4.7619|       2.896|   4.5|    evening|Wednesday|  February|\n",
            "|529-56-3974|     B| Mandalay|       Member|  Male|Electronic access...|     25.51|       4|  5.102| 107.142|2019-03-09 00:00:00|17:03:00|          Cash|102.04|          4.7619|       5.102|   6.8|    evening| Saturday|     March|\n",
            "|365-64-0515|     A|   Yangon|       Normal|Female|Electronic access...|     46.95|       5|11.7375|246.4875|2019-02-12 00:00:00|10:25:00|       Ewallet|234.75|          4.7619|     11.7375|   7.1|    morning|  Tuesday|  February|\n",
            "|252-56-2699|     A|   Yangon|       Normal|  Male|  Food and beverages|     43.19|      10| 21.595| 453.495|2019-02-07 00:00:00|16:48:00|       Ewallet| 431.9|          4.7619|      21.595|   8.2|    evening| Thursday|  February|\n",
            "|829-34-3910|     A|   Yangon|       Normal|Female|   Health and beauty|     71.38|      10|  35.69|  749.49|2019-03-29 00:00:00|19:21:00|          Cash| 713.8|          4.7619|       35.69|   5.7|    evening|   Friday|     March|\n",
            "|299-46-1805|     B| Mandalay|       Member|Female|   Sports and travel|     93.72|       6| 28.116| 590.436|2019-01-15 00:00:00|16:19:00|          Cash|562.32|          4.7619|      28.116|   4.5|    evening|  Tuesday|   January|\n",
            "|656-95-9349|     A|   Yangon|       Member|Female|   Health and beauty|     68.93|       7|24.1255|506.6355|2019-03-11 00:00:00|11:03:00|   Credit card|482.51|          4.7619|     24.1255|   4.6|    morning|   Monday|     March|\n",
            "|765-26-6951|     A|   Yangon|       Normal|  Male|   Sports and travel|     72.61|       6| 21.783| 457.443|2019-01-01 00:00:00|10:39:00|   Credit card|435.66|          4.7619|      21.783|   6.9|    morning|  Tuesday|   January|\n",
            "|329-62-1586|     A|   Yangon|       Normal|  Male|  Food and beverages|     54.67|       3| 8.2005|172.2105|2019-01-21 00:00:00|18:00:00|   Credit card|164.01|          4.7619|      8.2005|   8.6|    evening|   Monday|   January|\n",
            "|319-50-3348|     B| Mandalay|       Normal|Female|  Home and lifestyle|      40.3|       2|   4.03|   84.63|2019-03-11 00:00:00|15:30:00|       Ewallet|  80.6|          4.7619|        4.03|   4.4|  afternoon|   Monday|     March|\n",
            "+-----------+------+---------+-------------+------+--------------------+----------+--------+-------+--------+-------------------+--------+--------------+------+----------------+------------+------+-----------+---------+----------+\n",
            "only showing top 20 rows\n",
            "\n"
          ]
        }
      ]
    },
    {
      "cell_type": "code",
      "source": [
        "df.createOrReplaceTempView(\"df\")"
      ],
      "metadata": {
        "id": "E9Ok3nJ5GXJs"
      },
      "execution_count": 11,
      "outputs": []
    },
    {
      "cell_type": "code",
      "source": [
        "QUERY = \"select branch from df\""
      ],
      "metadata": {
        "id": "Z1wFIOIKHXbi"
      },
      "execution_count": 15,
      "outputs": []
    },
    {
      "cell_type": "code",
      "source": [
        "q1 = spark.sql(QUERY)"
      ],
      "metadata": {
        "id": "DvV0syIAHsBa"
      },
      "execution_count": 16,
      "outputs": []
    },
    {
      "cell_type": "code",
      "source": [
        "q1.show()"
      ],
      "metadata": {
        "colab": {
          "base_uri": "https://localhost:8080/"
        },
        "id": "MieMc7SMH2PR",
        "outputId": "5a4aa472-1943-4217-8014-5f6540cf1880"
      },
      "execution_count": 17,
      "outputs": [
        {
          "output_type": "stream",
          "name": "stdout",
          "text": [
            "+------+\n",
            "|branch|\n",
            "+------+\n",
            "|     A|\n",
            "|     C|\n",
            "|     A|\n",
            "|     A|\n",
            "|     A|\n",
            "|     C|\n",
            "|     A|\n",
            "|     C|\n",
            "|     A|\n",
            "|     B|\n",
            "|     B|\n",
            "|     B|\n",
            "|     A|\n",
            "|     A|\n",
            "|     A|\n",
            "|     B|\n",
            "|     A|\n",
            "|     A|\n",
            "|     A|\n",
            "|     B|\n",
            "+------+\n",
            "only showing top 20 rows\n",
            "\n"
          ]
        }
      ]
    },
    {
      "cell_type": "code",
      "source": [
        "q2 = spark.sql(QUERY)\n",
        "pd = q2.toPandas()\n",
        "pd"
      ],
      "metadata": {
        "colab": {
          "base_uri": "https://localhost:8080/",
          "height": 423
        },
        "id": "SLGuEgXvH32x",
        "outputId": "70eab2f9-6312-4dc8-d582-d8ccbbd5e573"
      },
      "execution_count": 18,
      "outputs": [
        {
          "output_type": "execute_result",
          "data": {
            "text/plain": [
              "    branch\n",
              "0        A\n",
              "1        C\n",
              "2        A\n",
              "3        A\n",
              "4        A\n",
              "..     ...\n",
              "995      C\n",
              "996      B\n",
              "997      A\n",
              "998      A\n",
              "999      A\n",
              "\n",
              "[1000 rows x 1 columns]"
            ],
            "text/html": [
              "\n",
              "  <div id=\"df-972bd2d1-1e2d-49f4-aa5b-0d926140f518\" class=\"colab-df-container\">\n",
              "    <div>\n",
              "<style scoped>\n",
              "    .dataframe tbody tr th:only-of-type {\n",
              "        vertical-align: middle;\n",
              "    }\n",
              "\n",
              "    .dataframe tbody tr th {\n",
              "        vertical-align: top;\n",
              "    }\n",
              "\n",
              "    .dataframe thead th {\n",
              "        text-align: right;\n",
              "    }\n",
              "</style>\n",
              "<table border=\"1\" class=\"dataframe\">\n",
              "  <thead>\n",
              "    <tr style=\"text-align: right;\">\n",
              "      <th></th>\n",
              "      <th>branch</th>\n",
              "    </tr>\n",
              "  </thead>\n",
              "  <tbody>\n",
              "    <tr>\n",
              "      <th>0</th>\n",
              "      <td>A</td>\n",
              "    </tr>\n",
              "    <tr>\n",
              "      <th>1</th>\n",
              "      <td>C</td>\n",
              "    </tr>\n",
              "    <tr>\n",
              "      <th>2</th>\n",
              "      <td>A</td>\n",
              "    </tr>\n",
              "    <tr>\n",
              "      <th>3</th>\n",
              "      <td>A</td>\n",
              "    </tr>\n",
              "    <tr>\n",
              "      <th>4</th>\n",
              "      <td>A</td>\n",
              "    </tr>\n",
              "    <tr>\n",
              "      <th>...</th>\n",
              "      <td>...</td>\n",
              "    </tr>\n",
              "    <tr>\n",
              "      <th>995</th>\n",
              "      <td>C</td>\n",
              "    </tr>\n",
              "    <tr>\n",
              "      <th>996</th>\n",
              "      <td>B</td>\n",
              "    </tr>\n",
              "    <tr>\n",
              "      <th>997</th>\n",
              "      <td>A</td>\n",
              "    </tr>\n",
              "    <tr>\n",
              "      <th>998</th>\n",
              "      <td>A</td>\n",
              "    </tr>\n",
              "    <tr>\n",
              "      <th>999</th>\n",
              "      <td>A</td>\n",
              "    </tr>\n",
              "  </tbody>\n",
              "</table>\n",
              "<p>1000 rows × 1 columns</p>\n",
              "</div>\n",
              "    <div class=\"colab-df-buttons\">\n",
              "\n",
              "  <div class=\"colab-df-container\">\n",
              "    <button class=\"colab-df-convert\" onclick=\"convertToInteractive('df-972bd2d1-1e2d-49f4-aa5b-0d926140f518')\"\n",
              "            title=\"Convert this dataframe to an interactive table.\"\n",
              "            style=\"display:none;\">\n",
              "\n",
              "  <svg xmlns=\"http://www.w3.org/2000/svg\" height=\"24px\" viewBox=\"0 -960 960 960\">\n",
              "    <path d=\"M120-120v-720h720v720H120Zm60-500h600v-160H180v160Zm220 220h160v-160H400v160Zm0 220h160v-160H400v160ZM180-400h160v-160H180v160Zm440 0h160v-160H620v160ZM180-180h160v-160H180v160Zm440 0h160v-160H620v160Z\"/>\n",
              "  </svg>\n",
              "    </button>\n",
              "\n",
              "  <style>\n",
              "    .colab-df-container {\n",
              "      display:flex;\n",
              "      gap: 12px;\n",
              "    }\n",
              "\n",
              "    .colab-df-convert {\n",
              "      background-color: #E8F0FE;\n",
              "      border: none;\n",
              "      border-radius: 50%;\n",
              "      cursor: pointer;\n",
              "      display: none;\n",
              "      fill: #1967D2;\n",
              "      height: 32px;\n",
              "      padding: 0 0 0 0;\n",
              "      width: 32px;\n",
              "    }\n",
              "\n",
              "    .colab-df-convert:hover {\n",
              "      background-color: #E2EBFA;\n",
              "      box-shadow: 0px 1px 2px rgba(60, 64, 67, 0.3), 0px 1px 3px 1px rgba(60, 64, 67, 0.15);\n",
              "      fill: #174EA6;\n",
              "    }\n",
              "\n",
              "    .colab-df-buttons div {\n",
              "      margin-bottom: 4px;\n",
              "    }\n",
              "\n",
              "    [theme=dark] .colab-df-convert {\n",
              "      background-color: #3B4455;\n",
              "      fill: #D2E3FC;\n",
              "    }\n",
              "\n",
              "    [theme=dark] .colab-df-convert:hover {\n",
              "      background-color: #434B5C;\n",
              "      box-shadow: 0px 1px 3px 1px rgba(0, 0, 0, 0.15);\n",
              "      filter: drop-shadow(0px 1px 2px rgba(0, 0, 0, 0.3));\n",
              "      fill: #FFFFFF;\n",
              "    }\n",
              "  </style>\n",
              "\n",
              "    <script>\n",
              "      const buttonEl =\n",
              "        document.querySelector('#df-972bd2d1-1e2d-49f4-aa5b-0d926140f518 button.colab-df-convert');\n",
              "      buttonEl.style.display =\n",
              "        google.colab.kernel.accessAllowed ? 'block' : 'none';\n",
              "\n",
              "      async function convertToInteractive(key) {\n",
              "        const element = document.querySelector('#df-972bd2d1-1e2d-49f4-aa5b-0d926140f518');\n",
              "        const dataTable =\n",
              "          await google.colab.kernel.invokeFunction('convertToInteractive',\n",
              "                                                    [key], {});\n",
              "        if (!dataTable) return;\n",
              "\n",
              "        const docLinkHtml = 'Like what you see? Visit the ' +\n",
              "          '<a target=\"_blank\" href=https://colab.research.google.com/notebooks/data_table.ipynb>data table notebook</a>'\n",
              "          + ' to learn more about interactive tables.';\n",
              "        element.innerHTML = '';\n",
              "        dataTable['output_type'] = 'display_data';\n",
              "        await google.colab.output.renderOutput(dataTable, element);\n",
              "        const docLink = document.createElement('div');\n",
              "        docLink.innerHTML = docLinkHtml;\n",
              "        element.appendChild(docLink);\n",
              "      }\n",
              "    </script>\n",
              "  </div>\n",
              "\n",
              "\n",
              "<div id=\"df-c612c7ae-e58a-4721-ac68-40efe2c8cbda\">\n",
              "  <button class=\"colab-df-quickchart\" onclick=\"quickchart('df-c612c7ae-e58a-4721-ac68-40efe2c8cbda')\"\n",
              "            title=\"Suggest charts\"\n",
              "            style=\"display:none;\">\n",
              "\n",
              "<svg xmlns=\"http://www.w3.org/2000/svg\" height=\"24px\"viewBox=\"0 0 24 24\"\n",
              "     width=\"24px\">\n",
              "    <g>\n",
              "        <path d=\"M19 3H5c-1.1 0-2 .9-2 2v14c0 1.1.9 2 2 2h14c1.1 0 2-.9 2-2V5c0-1.1-.9-2-2-2zM9 17H7v-7h2v7zm4 0h-2V7h2v10zm4 0h-2v-4h2v4z\"/>\n",
              "    </g>\n",
              "</svg>\n",
              "  </button>\n",
              "\n",
              "<style>\n",
              "  .colab-df-quickchart {\n",
              "      --bg-color: #E8F0FE;\n",
              "      --fill-color: #1967D2;\n",
              "      --hover-bg-color: #E2EBFA;\n",
              "      --hover-fill-color: #174EA6;\n",
              "      --disabled-fill-color: #AAA;\n",
              "      --disabled-bg-color: #DDD;\n",
              "  }\n",
              "\n",
              "  [theme=dark] .colab-df-quickchart {\n",
              "      --bg-color: #3B4455;\n",
              "      --fill-color: #D2E3FC;\n",
              "      --hover-bg-color: #434B5C;\n",
              "      --hover-fill-color: #FFFFFF;\n",
              "      --disabled-bg-color: #3B4455;\n",
              "      --disabled-fill-color: #666;\n",
              "  }\n",
              "\n",
              "  .colab-df-quickchart {\n",
              "    background-color: var(--bg-color);\n",
              "    border: none;\n",
              "    border-radius: 50%;\n",
              "    cursor: pointer;\n",
              "    display: none;\n",
              "    fill: var(--fill-color);\n",
              "    height: 32px;\n",
              "    padding: 0;\n",
              "    width: 32px;\n",
              "  }\n",
              "\n",
              "  .colab-df-quickchart:hover {\n",
              "    background-color: var(--hover-bg-color);\n",
              "    box-shadow: 0 1px 2px rgba(60, 64, 67, 0.3), 0 1px 3px 1px rgba(60, 64, 67, 0.15);\n",
              "    fill: var(--button-hover-fill-color);\n",
              "  }\n",
              "\n",
              "  .colab-df-quickchart-complete:disabled,\n",
              "  .colab-df-quickchart-complete:disabled:hover {\n",
              "    background-color: var(--disabled-bg-color);\n",
              "    fill: var(--disabled-fill-color);\n",
              "    box-shadow: none;\n",
              "  }\n",
              "\n",
              "  .colab-df-spinner {\n",
              "    border: 2px solid var(--fill-color);\n",
              "    border-color: transparent;\n",
              "    border-bottom-color: var(--fill-color);\n",
              "    animation:\n",
              "      spin 1s steps(1) infinite;\n",
              "  }\n",
              "\n",
              "  @keyframes spin {\n",
              "    0% {\n",
              "      border-color: transparent;\n",
              "      border-bottom-color: var(--fill-color);\n",
              "      border-left-color: var(--fill-color);\n",
              "    }\n",
              "    20% {\n",
              "      border-color: transparent;\n",
              "      border-left-color: var(--fill-color);\n",
              "      border-top-color: var(--fill-color);\n",
              "    }\n",
              "    30% {\n",
              "      border-color: transparent;\n",
              "      border-left-color: var(--fill-color);\n",
              "      border-top-color: var(--fill-color);\n",
              "      border-right-color: var(--fill-color);\n",
              "    }\n",
              "    40% {\n",
              "      border-color: transparent;\n",
              "      border-right-color: var(--fill-color);\n",
              "      border-top-color: var(--fill-color);\n",
              "    }\n",
              "    60% {\n",
              "      border-color: transparent;\n",
              "      border-right-color: var(--fill-color);\n",
              "    }\n",
              "    80% {\n",
              "      border-color: transparent;\n",
              "      border-right-color: var(--fill-color);\n",
              "      border-bottom-color: var(--fill-color);\n",
              "    }\n",
              "    90% {\n",
              "      border-color: transparent;\n",
              "      border-bottom-color: var(--fill-color);\n",
              "    }\n",
              "  }\n",
              "</style>\n",
              "\n",
              "  <script>\n",
              "    async function quickchart(key) {\n",
              "      const quickchartButtonEl =\n",
              "        document.querySelector('#' + key + ' button');\n",
              "      quickchartButtonEl.disabled = true;  // To prevent multiple clicks.\n",
              "      quickchartButtonEl.classList.add('colab-df-spinner');\n",
              "      try {\n",
              "        const charts = await google.colab.kernel.invokeFunction(\n",
              "            'suggestCharts', [key], {});\n",
              "      } catch (error) {\n",
              "        console.error('Error during call to suggestCharts:', error);\n",
              "      }\n",
              "      quickchartButtonEl.classList.remove('colab-df-spinner');\n",
              "      quickchartButtonEl.classList.add('colab-df-quickchart-complete');\n",
              "    }\n",
              "    (() => {\n",
              "      let quickchartButtonEl =\n",
              "        document.querySelector('#df-c612c7ae-e58a-4721-ac68-40efe2c8cbda button');\n",
              "      quickchartButtonEl.style.display =\n",
              "        google.colab.kernel.accessAllowed ? 'block' : 'none';\n",
              "    })();\n",
              "  </script>\n",
              "</div>\n",
              "\n",
              "  <div id=\"id_398dd4bc-4472-46ba-a3ed-9b7485314ae5\">\n",
              "    <style>\n",
              "      .colab-df-generate {\n",
              "        background-color: #E8F0FE;\n",
              "        border: none;\n",
              "        border-radius: 50%;\n",
              "        cursor: pointer;\n",
              "        display: none;\n",
              "        fill: #1967D2;\n",
              "        height: 32px;\n",
              "        padding: 0 0 0 0;\n",
              "        width: 32px;\n",
              "      }\n",
              "\n",
              "      .colab-df-generate:hover {\n",
              "        background-color: #E2EBFA;\n",
              "        box-shadow: 0px 1px 2px rgba(60, 64, 67, 0.3), 0px 1px 3px 1px rgba(60, 64, 67, 0.15);\n",
              "        fill: #174EA6;\n",
              "      }\n",
              "\n",
              "      [theme=dark] .colab-df-generate {\n",
              "        background-color: #3B4455;\n",
              "        fill: #D2E3FC;\n",
              "      }\n",
              "\n",
              "      [theme=dark] .colab-df-generate:hover {\n",
              "        background-color: #434B5C;\n",
              "        box-shadow: 0px 1px 3px 1px rgba(0, 0, 0, 0.15);\n",
              "        filter: drop-shadow(0px 1px 2px rgba(0, 0, 0, 0.3));\n",
              "        fill: #FFFFFF;\n",
              "      }\n",
              "    </style>\n",
              "    <button class=\"colab-df-generate\" onclick=\"generateWithVariable('pd')\"\n",
              "            title=\"Generate code using this dataframe.\"\n",
              "            style=\"display:none;\">\n",
              "\n",
              "  <svg xmlns=\"http://www.w3.org/2000/svg\" height=\"24px\"viewBox=\"0 0 24 24\"\n",
              "       width=\"24px\">\n",
              "    <path d=\"M7,19H8.4L18.45,9,17,7.55,7,17.6ZM5,21V16.75L18.45,3.32a2,2,0,0,1,2.83,0l1.4,1.43a1.91,1.91,0,0,1,.58,1.4,1.91,1.91,0,0,1-.58,1.4L9.25,21ZM18.45,9,17,7.55Zm-12,3A5.31,5.31,0,0,0,4.9,8.1,5.31,5.31,0,0,0,1,6.5,5.31,5.31,0,0,0,4.9,4.9,5.31,5.31,0,0,0,6.5,1,5.31,5.31,0,0,0,8.1,4.9,5.31,5.31,0,0,0,12,6.5,5.46,5.46,0,0,0,6.5,12Z\"/>\n",
              "  </svg>\n",
              "    </button>\n",
              "    <script>\n",
              "      (() => {\n",
              "      const buttonEl =\n",
              "        document.querySelector('#id_398dd4bc-4472-46ba-a3ed-9b7485314ae5 button.colab-df-generate');\n",
              "      buttonEl.style.display =\n",
              "        google.colab.kernel.accessAllowed ? 'block' : 'none';\n",
              "\n",
              "      buttonEl.onclick = () => {\n",
              "        google.colab.notebook.generateWithVariable('pd');\n",
              "      }\n",
              "      })();\n",
              "    </script>\n",
              "  </div>\n",
              "\n",
              "    </div>\n",
              "  </div>\n"
            ],
            "application/vnd.google.colaboratory.intrinsic+json": {
              "type": "dataframe",
              "variable_name": "pd",
              "summary": "{\n  \"name\": \"pd\",\n  \"rows\": 1000,\n  \"fields\": [\n    {\n      \"column\": \"branch\",\n      \"properties\": {\n        \"dtype\": \"category\",\n        \"num_unique_values\": 3,\n        \"samples\": [\n          \"A\",\n          \"C\",\n          \"B\"\n        ],\n        \"semantic_type\": \"\",\n        \"description\": \"\"\n      }\n    }\n  ]\n}"
            }
          },
          "metadata": {},
          "execution_count": 18
        }
      ]
    },
    {
      "cell_type": "code",
      "source": [
        "filter1 = df.city == 'Yangon'\n",
        "filter2 = df.quantity == '7'\n",
        "df2 = df.filter(filter1).filter(filter2)"
      ],
      "metadata": {
        "id": "FUc0mBx0IO9K"
      },
      "execution_count": 19,
      "outputs": []
    },
    {
      "cell_type": "code",
      "source": [
        "df2.show()"
      ],
      "metadata": {
        "colab": {
          "base_uri": "https://localhost:8080/"
        },
        "id": "b21lHVk4IxCB",
        "outputId": "b547be0d-114d-4252-abd9-86ef2aca7ad9"
      },
      "execution_count": 20,
      "outputs": [
        {
          "output_type": "stream",
          "name": "stdout",
          "text": [
            "+-----------+------+------+-------------+------+--------------------+----------+--------+-------+--------+-------------------+--------+--------------+------+----------------+------------+------+-----------+---------+----------+\n",
            "| invoice_id|branch|  city|customer_type|gender|        product_line|unit_price|quantity|    vat|   total|               dtme|     tme|payment_method|  cogs|gross_margin_pct|gross_income|rating|time_of_day| day_name|month_name|\n",
            "+-----------+------+------+-------------+------+--------------------+----------+--------+-------+--------+-------------------+--------+--------------+------+----------------+------------+------+-----------+---------+----------+\n",
            "|750-67-8428|     A|Yangon|       Member|Female|   Health and beauty|     74.69|       7|26.1415|548.9715|2019-01-05 00:00:00|13:08:00|       Ewallet|522.83|          4.7619|     26.1415|   9.1|  afternoon| Saturday|   January|\n",
            "|631-41-3108|     A|Yangon|       Normal|  Male|  Home and lifestyle|     46.33|       7|16.2155|340.5255|2019-03-03 00:00:00|13:23:00|   Credit card|324.31|          4.7619|     16.2155|   7.4|  afternoon|   Sunday|     March|\n",
            "|373-73-7910|     A|Yangon|       Normal|  Male|   Sports and travel|     86.31|       7|30.2085|634.3785|2019-02-08 00:00:00|10:37:00|       Ewallet|604.17|          4.7619|     30.2085|   5.3|    morning|   Friday|  February|\n",
            "|656-95-9349|     A|Yangon|       Member|Female|   Health and beauty|     68.93|       7|24.1255|506.6355|2019-03-11 00:00:00|11:03:00|   Credit card|482.51|          4.7619|     24.1255|   4.6|    morning|   Monday|     March|\n",
            "|633-44-8566|     A|Yangon|       Member|  Male|  Food and beverages|     49.38|       7| 17.283| 362.943|2019-03-27 00:00:00|20:35:00|   Credit card|345.66|          4.7619|      17.283|   7.3|    evening|Wednesday|     March|\n",
            "|873-51-0671|     A|Yangon|       Member|Female|   Sports and travel|     21.98|       7|  7.693| 161.553|2019-01-10 00:00:00|16:42:00|       Ewallet|153.86|          4.7619|       7.693|   5.1|    evening| Thursday|   January|\n",
            "|668-90-8900|     A|Yangon|       Normal|Female|  Home and lifestyle|     93.69|       7|32.7915|688.6215|2019-03-10 00:00:00|18:44:00|   Credit card|655.83|          4.7619|     32.7915|   4.5|    evening|   Sunday|     March|\n",
            "|101-17-6199|     A|Yangon|       Normal|  Male|  Food and beverages|     45.79|       7|16.0265|336.5565|2019-03-13 00:00:00|19:44:00|   Credit card|320.53|          4.7619|     16.0265|   7.0|    evening|Wednesday|     March|\n",
            "|105-31-1824|     A|Yangon|       Member|  Male|   Sports and travel|     69.52|       7| 24.332| 510.972|2019-02-01 00:00:00|15:10:00|   Credit card|486.64|          4.7619|      24.332|   8.5|  afternoon|   Friday|  February|\n",
            "|586-25-0848|     A|Yangon|       Normal|Female|   Sports and travel|     12.34|       7|  4.319|  90.699|2019-03-04 00:00:00|11:19:00|   Credit card| 86.38|          4.7619|       4.319|   6.7|    morning|   Monday|     March|\n",
            "|253-12-6086|     A|Yangon|       Member|Female|   Sports and travel|      98.4|       7|  34.44|  723.24|2019-03-12 00:00:00|12:43:00|   Credit card| 688.8|          4.7619|       34.44|   8.7|  afternoon|  Tuesday|     March|\n",
            "|430-60-3493|     A|Yangon|       Member|Female|  Home and lifestyle|     94.88|       7| 33.208| 697.368|2019-02-03 00:00:00|14:38:00|          Cash|664.16|          4.7619|      33.208|   4.2|  afternoon|   Sunday|  February|\n",
            "|411-77-0180|     A|Yangon|       Member|  Male|Electronic access...|      72.2|       7|  25.27|  530.67|2019-03-26 00:00:00|20:14:00|       Ewallet| 505.4|          4.7619|       25.27|   4.3|    evening|  Tuesday|     March|\n",
            "|286-01-5402|     A|Yangon|       Normal|Female|   Sports and travel|     40.23|       7|14.0805|295.6905|2019-03-30 00:00:00|13:22:00|          Cash|281.61|          4.7619|     14.0805|   9.6|  afternoon| Saturday|     March|\n",
            "|531-80-1784|     A|Yangon|       Normal|  Male|Electronic access...|     26.02|       7|  9.107| 191.247|2019-03-28 00:00:00|17:38:00|          Cash|182.14|          4.7619|       9.107|   5.1|    evening| Thursday|     March|\n",
            "|834-61-8124|     A|Yangon|       Normal|  Male|Electronic access...|     51.69|       7|18.0915|379.9215|2019-01-26 00:00:00|18:22:00|          Cash|361.83|          4.7619|     18.0915|   5.5|    evening| Saturday|   January|\n",
            "|745-71-3520|     A|Yangon|       Member|Female|Electronic access...|     25.22|       7|  8.827| 185.367|2019-02-04 00:00:00|10:23:00|          Cash|176.54|          4.7619|       8.827|   8.2|    morning|   Monday|  February|\n",
            "|269-10-8440|     A|Yangon|       Member|  Male|   Health and beauty|     53.17|       7|18.6095|390.7995|2019-01-21 00:00:00|18:01:00|          Cash|372.19|          4.7619|     18.6095|   8.9|    evening|   Monday|   January|\n",
            "|301-11-9629|     A|Yangon|       Normal|Female|   Sports and travel|      19.1|       7|  6.685| 140.385|2019-01-15 00:00:00|10:43:00|          Cash| 133.7|          4.7619|       6.685|   9.7|    morning|  Tuesday|   January|\n",
            "|595-27-4851|     A|Yangon|       Normal|Female| Fashion accessories|     54.28|       7| 18.998| 398.958|2019-01-27 00:00:00|18:05:00|       Ewallet|379.96|          4.7619|      18.998|   9.3|    evening|   Sunday|   January|\n",
            "+-----------+------+------+-------------+------+--------------------+----------+--------+-------+--------+-------------------+--------+--------------+------+----------------+------------+------+-----------+---------+----------+\n",
            "only showing top 20 rows\n",
            "\n"
          ]
        }
      ]
    },
    {
      "cell_type": "code",
      "source": [
        "from pyspark.ml.feature import Imputer"
      ],
      "metadata": {
        "id": "q-TGjsUIIyVK"
      },
      "execution_count": 21,
      "outputs": []
    },
    {
      "cell_type": "code",
      "source": [],
      "metadata": {
        "id": "sgNXA-npMiFH"
      },
      "execution_count": null,
      "outputs": []
    }
  ]
}